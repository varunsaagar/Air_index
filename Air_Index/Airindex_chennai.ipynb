{
 "cells": [
  {
   "cell_type": "markdown",
   "metadata": {},
   "source": [
    "Importing pandas from python lib"
   ]
  },
  {
   "cell_type": "code",
   "execution_count": 3,
   "metadata": {},
   "outputs": [],
   "source": [
    "import pandas as pd"
   ]
  },
  {
   "cell_type": "raw",
   "metadata": {},
   "source": [
    "For reading the excel file, use CMD --> pip install xdrl \n",
    "Reading the excel file"
   ]
  },
  {
   "cell_type": "code",
   "execution_count": 4,
   "metadata": {},
   "outputs": [],
   "source": [
    "df=pd.read_excel('Air_indexing.xlsx',sheet_name='chennai')"
   ]
  },
  {
   "cell_type": "markdown",
   "metadata": {},
   "source": [
    "Checking whether imported excel file is accessing fine"
   ]
  },
  {
   "cell_type": "code",
   "execution_count": 5,
   "metadata": {
    "scrolled": true
   },
   "outputs": [
    {
     "data": {
      "text/html": [
       "<div>\n",
       "<style scoped>\n",
       "    .dataframe tbody tr th:only-of-type {\n",
       "        vertical-align: middle;\n",
       "    }\n",
       "\n",
       "    .dataframe tbody tr th {\n",
       "        vertical-align: top;\n",
       "    }\n",
       "\n",
       "    .dataframe thead th {\n",
       "        text-align: right;\n",
       "    }\n",
       "</style>\n",
       "<table border=\"1\" class=\"dataframe\">\n",
       "  <thead>\n",
       "    <tr style=\"text-align: right;\">\n",
       "      <th></th>\n",
       "      <th>S.No</th>\n",
       "      <th>CITY</th>\n",
       "      <th>Type</th>\n",
       "      <th>STATION</th>\n",
       "      <th>Date of Sampling</th>\n",
       "      <th>AQI</th>\n",
       "      <th>Remarks</th>\n",
       "    </tr>\n",
       "  </thead>\n",
       "  <tbody>\n",
       "    <tr>\n",
       "      <th>0</th>\n",
       "      <td>1</td>\n",
       "      <td>CHENNAI</td>\n",
       "      <td>Residential</td>\n",
       "      <td>Anna Nagar - 765</td>\n",
       "      <td>05.06.18</td>\n",
       "      <td>68</td>\n",
       "      <td>Satisfactory</td>\n",
       "    </tr>\n",
       "    <tr>\n",
       "      <th>1</th>\n",
       "      <td>2</td>\n",
       "      <td>CHENNAI</td>\n",
       "      <td>Residential</td>\n",
       "      <td>Anna Nagar - 765</td>\n",
       "      <td>07.06.18</td>\n",
       "      <td>63</td>\n",
       "      <td>Satisfactory</td>\n",
       "    </tr>\n",
       "    <tr>\n",
       "      <th>2</th>\n",
       "      <td>3</td>\n",
       "      <td>CHENNAI</td>\n",
       "      <td>Residential</td>\n",
       "      <td>Anna Nagar - 765</td>\n",
       "      <td>12.06.18</td>\n",
       "      <td>70</td>\n",
       "      <td>Satisfactory</td>\n",
       "    </tr>\n",
       "    <tr>\n",
       "      <th>3</th>\n",
       "      <td>4</td>\n",
       "      <td>CHENNAI</td>\n",
       "      <td>Residential</td>\n",
       "      <td>Anna Nagar - 765</td>\n",
       "      <td>14.06.18</td>\n",
       "      <td>63</td>\n",
       "      <td>Satisfactory</td>\n",
       "    </tr>\n",
       "    <tr>\n",
       "      <th>4</th>\n",
       "      <td>5</td>\n",
       "      <td>CHENNAI</td>\n",
       "      <td>Residential</td>\n",
       "      <td>Anna Nagar - 765</td>\n",
       "      <td>19.06.18</td>\n",
       "      <td>63</td>\n",
       "      <td>Satisfactory</td>\n",
       "    </tr>\n",
       "    <tr>\n",
       "      <th>...</th>\n",
       "      <td>...</td>\n",
       "      <td>...</td>\n",
       "      <td>...</td>\n",
       "      <td>...</td>\n",
       "      <td>...</td>\n",
       "      <td>...</td>\n",
       "      <td>...</td>\n",
       "    </tr>\n",
       "    <tr>\n",
       "      <th>572</th>\n",
       "      <td>573</td>\n",
       "      <td>CHENNAI</td>\n",
       "      <td>Traffic inter - section</td>\n",
       "      <td>Nungambakkam - 895</td>\n",
       "      <td>14.08.19</td>\n",
       "      <td>58</td>\n",
       "      <td>Satisfactory</td>\n",
       "    </tr>\n",
       "    <tr>\n",
       "      <th>573</th>\n",
       "      <td>574</td>\n",
       "      <td>CHENNAI</td>\n",
       "      <td>Traffic inter - section</td>\n",
       "      <td>Nungambakkam - 895</td>\n",
       "      <td>19.08.19</td>\n",
       "      <td>72</td>\n",
       "      <td>Satisfactory</td>\n",
       "    </tr>\n",
       "    <tr>\n",
       "      <th>574</th>\n",
       "      <td>575</td>\n",
       "      <td>CHENNAI</td>\n",
       "      <td>Traffic inter - section</td>\n",
       "      <td>Nungambakkam - 895</td>\n",
       "      <td>22.08.19</td>\n",
       "      <td>52</td>\n",
       "      <td>Satisfactory</td>\n",
       "    </tr>\n",
       "    <tr>\n",
       "      <th>575</th>\n",
       "      <td>576</td>\n",
       "      <td>CHENNAI</td>\n",
       "      <td>Traffic inter - section</td>\n",
       "      <td>Nungambakkam - 895</td>\n",
       "      <td>27.08.19</td>\n",
       "      <td>71</td>\n",
       "      <td>Satisfactory</td>\n",
       "    </tr>\n",
       "    <tr>\n",
       "      <th>576</th>\n",
       "      <td>577</td>\n",
       "      <td>CHENNAI</td>\n",
       "      <td>Traffic inter - section</td>\n",
       "      <td>Nungambakkam - 895</td>\n",
       "      <td>30.08.19</td>\n",
       "      <td>67</td>\n",
       "      <td>Satisfactory</td>\n",
       "    </tr>\n",
       "  </tbody>\n",
       "</table>\n",
       "<p>577 rows × 7 columns</p>\n",
       "</div>"
      ],
      "text/plain": [
       "     S.No     CITY                     Type             STATION  \\\n",
       "0       1  CHENNAI              Residential    Anna Nagar - 765   \n",
       "1       2  CHENNAI              Residential    Anna Nagar - 765   \n",
       "2       3  CHENNAI              Residential    Anna Nagar - 765   \n",
       "3       4  CHENNAI              Residential    Anna Nagar - 765   \n",
       "4       5  CHENNAI              Residential    Anna Nagar - 765   \n",
       "..    ...      ...                      ...                 ...   \n",
       "572   573  CHENNAI  Traffic inter - section  Nungambakkam - 895   \n",
       "573   574  CHENNAI  Traffic inter - section  Nungambakkam - 895   \n",
       "574   575  CHENNAI  Traffic inter - section  Nungambakkam - 895   \n",
       "575   576  CHENNAI  Traffic inter - section  Nungambakkam - 895   \n",
       "576   577  CHENNAI  Traffic inter - section  Nungambakkam - 895   \n",
       "\n",
       "    Date of Sampling AQI       Remarks  \n",
       "0           05.06.18  68  Satisfactory  \n",
       "1           07.06.18  63  Satisfactory  \n",
       "2           12.06.18  70  Satisfactory  \n",
       "3           14.06.18  63  Satisfactory  \n",
       "4           19.06.18  63  Satisfactory  \n",
       "..               ...  ..           ...  \n",
       "572         14.08.19  58  Satisfactory  \n",
       "573         19.08.19  72  Satisfactory  \n",
       "574         22.08.19  52  Satisfactory  \n",
       "575         27.08.19  71  Satisfactory  \n",
       "576         30.08.19  67  Satisfactory  \n",
       "\n",
       "[577 rows x 7 columns]"
      ]
     },
     "execution_count": 5,
     "metadata": {},
     "output_type": "execute_result"
    }
   ],
   "source": [
    "df"
   ]
  },
  {
   "cell_type": "markdown",
   "metadata": {},
   "source": [
    " #Indexing the REMARKS & AQI and Compute count of group from each 'STATION' in different areas  Using Groupby\n",
    " #Also Ploting the bar grap for above output values"
   ]
  },
  {
   "cell_type": "code",
   "execution_count": 11,
   "metadata": {},
   "outputs": [
    {
     "data": {
      "text/html": [
       "<div>\n",
       "<style scoped>\n",
       "    .dataframe tbody tr th:only-of-type {\n",
       "        vertical-align: middle;\n",
       "    }\n",
       "\n",
       "    .dataframe tbody tr th {\n",
       "        vertical-align: top;\n",
       "    }\n",
       "\n",
       "    .dataframe thead th {\n",
       "        text-align: right;\n",
       "    }\n",
       "</style>\n",
       "<table border=\"1\" class=\"dataframe\">\n",
       "  <thead>\n",
       "    <tr style=\"text-align: right;\">\n",
       "      <th></th>\n",
       "      <th>Remarks</th>\n",
       "      <th>AQI</th>\n",
       "    </tr>\n",
       "  </thead>\n",
       "  <tbody>\n",
       "    <tr>\n",
       "      <th>0</th>\n",
       "      <td>Moderate</td>\n",
       "      <td>53</td>\n",
       "    </tr>\n",
       "    <tr>\n",
       "      <th>1</th>\n",
       "      <td>Satisfactory</td>\n",
       "      <td>50</td>\n",
       "    </tr>\n",
       "    <tr>\n",
       "      <th>2</th>\n",
       "      <td>Poor</td>\n",
       "      <td>3</td>\n",
       "    </tr>\n",
       "    <tr>\n",
       "      <th>3</th>\n",
       "      <td>Good</td>\n",
       "      <td>1</td>\n",
       "    </tr>\n",
       "  </tbody>\n",
       "</table>\n",
       "</div>"
      ],
      "text/plain": [
       "        Remarks  AQI\n",
       "0      Moderate   53\n",
       "1  Satisfactory   50\n",
       "2          Poor    3\n",
       "3          Good    1"
      ]
     },
     "execution_count": 11,
     "metadata": {},
     "output_type": "execute_result"
    },
    {
     "data": {
      "image/png": "[encoded data removed]",
      "text/plain": [
       "<Figure size 360x360 with 1 Axes>"
      ]
     },
     "metadata": {
      "needs_background": "light"
     },
     "output_type": "display_data"
    }
   ],
   "source": [
    "df_AnnaNagar= df[df['STATION']  == 'Anna Nagar - 765'].groupby([\"Remarks\"])[['AQI']].count().sort_values('AQI',ascending=False).reset_index()\n",
    "pt_AnnaNagar=df_AnnaNagar.sort_values('AQI',ascending=True).plot('Remarks', 'AQI', kind='barh', figsize=(5,5))\n",
    "df_AnnaNagar"
   ]
  },
  {
   "cell_type": "code",
   "execution_count": 10,
   "metadata": {},
   "outputs": [
    {
     "data": {
      "text/html": [
       "<div>\n",
       "<style scoped>\n",
       "    .dataframe tbody tr th:only-of-type {\n",
       "        vertical-align: middle;\n",
       "    }\n",
       "\n",
       "    .dataframe tbody tr th {\n",
       "        vertical-align: top;\n",
       "    }\n",
       "\n",
       "    .dataframe thead th {\n",
       "        text-align: right;\n",
       "    }\n",
       "</style>\n",
       "<table border=\"1\" class=\"dataframe\">\n",
       "  <thead>\n",
       "    <tr style=\"text-align: right;\">\n",
       "      <th></th>\n",
       "      <th>Remarks</th>\n",
       "      <th>AQI</th>\n",
       "    </tr>\n",
       "  </thead>\n",
       "  <tbody>\n",
       "    <tr>\n",
       "      <th>0</th>\n",
       "      <td>Satisfactory</td>\n",
       "      <td>60</td>\n",
       "    </tr>\n",
       "    <tr>\n",
       "      <th>1</th>\n",
       "      <td>Moderate</td>\n",
       "      <td>56</td>\n",
       "    </tr>\n",
       "    <tr>\n",
       "      <th>2</th>\n",
       "      <td>Good</td>\n",
       "      <td>2</td>\n",
       "    </tr>\n",
       "  </tbody>\n",
       "</table>\n",
       "</div>"
      ],
      "text/plain": [
       "        Remarks  AQI\n",
       "0  Satisfactory   60\n",
       "1      Moderate   56\n",
       "2          Good    2"
      ]
     },
     "execution_count": 10,
     "metadata": {},
     "output_type": "execute_result"
    },
    {
     "data": {
      "image/png": "[encoded data removed]",
      "text/plain": [
       "<Figure size 360x360 with 1 Axes>"
      ]
     },
     "metadata": {
      "needs_background": "light"
     },
     "output_type": "display_data"
    }
   ],
   "source": [
    "df_TNagar= df[df['STATION']  == 'T.Nagar 766'].groupby([\"Remarks\"])[['AQI']].count().sort_values('AQI',ascending=False).reset_index()\n",
    "pt_TNagar= df_TNagar.sort_values('AQI',ascending=True).plot('Remarks', 'AQI', kind='barh', figsize=(5,5))\n",
    "df_TNagar"
   ]
  },
  {
   "cell_type": "code",
   "execution_count": 12,
   "metadata": {},
   "outputs": [
    {
     "data": {
      "text/html": [
       "<div>\n",
       "<style scoped>\n",
       "    .dataframe tbody tr th:only-of-type {\n",
       "        vertical-align: middle;\n",
       "    }\n",
       "\n",
       "    .dataframe tbody tr th {\n",
       "        vertical-align: top;\n",
       "    }\n",
       "\n",
       "    .dataframe thead th {\n",
       "        text-align: right;\n",
       "    }\n",
       "</style>\n",
       "<table border=\"1\" class=\"dataframe\">\n",
       "  <thead>\n",
       "    <tr style=\"text-align: right;\">\n",
       "      <th></th>\n",
       "      <th>Remarks</th>\n",
       "      <th>AQI</th>\n",
       "    </tr>\n",
       "  </thead>\n",
       "  <tbody>\n",
       "    <tr>\n",
       "      <th>0</th>\n",
       "      <td>Satisfactory</td>\n",
       "      <td>85</td>\n",
       "    </tr>\n",
       "    <tr>\n",
       "      <th>1</th>\n",
       "      <td>Good</td>\n",
       "      <td>17</td>\n",
       "    </tr>\n",
       "    <tr>\n",
       "      <th>2</th>\n",
       "      <td>Moderate</td>\n",
       "      <td>11</td>\n",
       "    </tr>\n",
       "    <tr>\n",
       "      <th>3</th>\n",
       "      <td>good</td>\n",
       "      <td>2</td>\n",
       "    </tr>\n",
       "    <tr>\n",
       "      <th>4</th>\n",
       "      <td>moderate</td>\n",
       "      <td>1</td>\n",
       "    </tr>\n",
       "  </tbody>\n",
       "</table>\n",
       "</div>"
      ],
      "text/plain": [
       "        Remarks  AQI\n",
       "0  Satisfactory   85\n",
       "1          Good   17\n",
       "2      Moderate   11\n",
       "3          good    2\n",
       "4      moderate    1"
      ]
     },
     "execution_count": 12,
     "metadata": {},
     "output_type": "execute_result"
    },
    {
     "data": {
      "image/png": "[encoded data removed]",
      "text/plain": [
       "<Figure size 360x360 with 1 Axes>"
      ]
     },
     "metadata": {
      "needs_background": "light"
     },
     "output_type": "display_data"
    }
   ],
   "source": [
    "df_Adyar = df[df['STATION']  == 'Adyar - 764'].groupby([\"Remarks\"])[['AQI']].count().sort_values('AQI',ascending=False).reset_index()\n",
    "pt_Adyar=df_Adyar.sort_values('AQI',ascending=True).plot('Remarks', 'AQI', kind='barh', figsize=(5,5))\n",
    "df_Adyar"
   ]
  },
  {
   "cell_type": "code",
   "execution_count": 13,
   "metadata": {},
   "outputs": [
    {
     "data": {
      "text/html": [
       "<div>\n",
       "<style scoped>\n",
       "    .dataframe tbody tr th:only-of-type {\n",
       "        vertical-align: middle;\n",
       "    }\n",
       "\n",
       "    .dataframe tbody tr th {\n",
       "        vertical-align: top;\n",
       "    }\n",
       "\n",
       "    .dataframe thead th {\n",
       "        text-align: right;\n",
       "    }\n",
       "</style>\n",
       "<table border=\"1\" class=\"dataframe\">\n",
       "  <thead>\n",
       "    <tr style=\"text-align: right;\">\n",
       "      <th></th>\n",
       "      <th>Remarks</th>\n",
       "      <th>AQI</th>\n",
       "    </tr>\n",
       "  </thead>\n",
       "  <tbody>\n",
       "    <tr>\n",
       "      <th>0</th>\n",
       "      <td>Satisfactory</td>\n",
       "      <td>60</td>\n",
       "    </tr>\n",
       "    <tr>\n",
       "      <th>1</th>\n",
       "      <td>Moderate</td>\n",
       "      <td>52</td>\n",
       "    </tr>\n",
       "    <tr>\n",
       "      <th>2</th>\n",
       "      <td>Good</td>\n",
       "      <td>4</td>\n",
       "    </tr>\n",
       "  </tbody>\n",
       "</table>\n",
       "</div>"
      ],
      "text/plain": [
       "        Remarks  AQI\n",
       "0  Satisfactory   60\n",
       "1      Moderate   52\n",
       "2          Good    4"
      ]
     },
     "execution_count": 13,
     "metadata": {},
     "output_type": "execute_result"
    },
    {
     "data": {
      "image/png": "[encoded data removed]",
      "text/plain": [
       "<Figure size 360x360 with 1 Axes>"
      ]
     },
     "metadata": {
      "needs_background": "light"
     },
     "output_type": "display_data"
    }
   ],
   "source": [
    "df_Kilpauk = df[df['STATION']  == 'Kilpauk - 767'].groupby([\"Remarks\"])[['AQI']].count().sort_values('AQI',ascending=False).reset_index()\n",
    "pt_Kilpauk=df_Adyar.sort_values('AQI',ascending=True).plot('Remarks', 'AQI', kind='barh', figsize=(5,5))\n",
    "df_Kilpauk"
   ]
  },
  {
   "cell_type": "code",
   "execution_count": null,
   "metadata": {},
   "outputs": [],
   "source": [
    "df_Nungambakkam = df[df['STATION']  == 'Nungambakkam - 895'].groupby([\"Remarks\"])[['AQI']].count().sort_values('AQI',ascending=False).reset_index()\n",
    "pt_Nungambakkam = df_Nungambakkam.sort_values('AQI',ascending=True).plot('Remarks', 'AQI', kind='barh', figsize=(5,5))\n",
    "df_Nungambakkam"
   ]
  },
  {
   "cell_type": "code",
   "execution_count": null,
   "metadata": {},
   "outputs": [],
   "source": []
  }
 ],
 "metadata": {
  "kernelspec": {
   "display_name": "Python 3",
   "language": "python",
   "name": "python3"
  },
  "language_info": {
   "codemirror_mode": {
    "name": "ipython",
    "version": 3
   },
   "file_extension": ".py",
   "mimetype": "text/x-python",
   "name": "python",
   "nbconvert_exporter": "python",
   "pygments_lexer": "ipython3",
   "version": "3.6.8"
  }
 },
 "nbformat": 4,
 "nbformat_minor": 4
}
